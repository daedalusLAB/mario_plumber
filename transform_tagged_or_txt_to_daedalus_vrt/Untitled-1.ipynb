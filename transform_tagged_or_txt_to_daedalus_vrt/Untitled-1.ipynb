{
 "cells": [
  {
   "cell_type": "code",
   "execution_count": 11,
   "metadata": {},
   "outputs": [],
   "source": [
    "import spacy\n",
    "import contextualSpellCheck\n",
    "\n",
    "\n",
    "nlp = spacy.load('es_dep_news_trf')\n",
    "# nlp.add_pipe(\n",
    "#         \"contextual spellchecker\",\n",
    "#         config={\n",
    "#           \"model_name\": \"dccuchile/bert-base-spanish-wwm-cased\",\n",
    "#           \"max_edit_dist\": 2,\n",
    "#         },\n",
    "#       )\n",
    "\n"
   ]
  },
  {
   "cell_type": "code",
   "execution_count": 12,
   "metadata": {},
   "outputs": [],
   "source": [
    "# load \"transcription_tmp.txt\" file into text\n",
    "with open('transcription_tmp.txt', 'r') as f:\n",
    "  text = f.read()\n",
    "#close file\n",
    "f.close()\n"
   ]
  },
  {
   "cell_type": "code",
   "execution_count": 13,
   "metadata": {},
   "outputs": [],
   "source": [
    "doc = nlp(text)"
   ]
  }
 ],
 "metadata": {
  "kernelspec": {
   "display_name": "Python 3.10.8 ('spacy')",
   "language": "python",
   "name": "python3"
  },
  "language_info": {
   "codemirror_mode": {
    "name": "ipython",
    "version": 3
   },
   "file_extension": ".py",
   "mimetype": "text/x-python",
   "name": "python",
   "nbconvert_exporter": "python",
   "pygments_lexer": "ipython3",
   "version": "3.10.8"
  },
  "orig_nbformat": 4,
  "vscode": {
   "interpreter": {
    "hash": "88a451b5b1188d1601c22ed6484038ec08f393486fb0891291911f2dfb364c97"
   }
  }
 },
 "nbformat": 4,
 "nbformat_minor": 2
}
